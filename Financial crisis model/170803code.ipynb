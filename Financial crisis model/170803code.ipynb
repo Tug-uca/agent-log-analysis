{
 "cells": [
  {
   "cell_type": "code",
   "execution_count": 17,
   "metadata": {
    "collapsed": false
   },
   "outputs": [],
   "source": [
    "import os\n",
    "\n",
    "path = r\"C:\\Users\\e02324\\Downloads\\workspace\\financeABM_tanaka-san\\result\"\n",
    "\n",
    "dirs = get_dirs(path)\n",
    "out_list = []\n",
    "\n",
    "for dir in dirs:\n",
    "    f = open(dir+'Bankrupt.txt', 'r')\n",
    "    lines = open(dir+'Bankrupt.txt').read().split('\\n')\n",
    "    lines.pop(0)\n",
    "    for line in lines:\n",
    "        line_list = line.split('\\t')\n",
    "        if line_list[0] == '-':\n",
    "            break\n",
    "        line_list.insert(0,dir.split('\\\\')[-2])\n",
    "        line_list.insert(0,dir.split('\\\\')[-3])\n",
    "        out_list.append(line_list)\n",
    "        \n",
    "\n",
    "f = open('list.txt', 'w')\n",
    "for x in out_list:\n",
    "    f.write(str(x).split('[')[1].split(']')[0] + \"\\n\")\n",
    "f.close()\n"
   ]
  },
  {
   "cell_type": "code",
   "execution_count": 6,
   "metadata": {
    "collapsed": false
   },
   "outputs": [],
   "source": [
    "import os\n",
    "\n",
    "#path以下２階層すべてのディレクトリを返す\n",
    "def get_dirs(path):\n",
    "    rt = []\n",
    "    params = os.listdir(path)\n",
    "    params = [f for f in params if os.path.isdir(os.path.join(path, f))]\n",
    "\n",
    "    for param in params:\n",
    "        runs = os.listdir(path+\"\\\\\"+param)\n",
    "        runs = [f for f in runs if os.path.isdir(os.path.join(path+\"\\\\\"+param, f))]\n",
    "        for run in runs:\n",
    "            rt.append(path+\"\\\\\"+param+\"\\\\\"+run+\"\\\\\") \n",
    "    \n",
    "    return rt"
   ]
  },
  {
   "cell_type": "code",
   "execution_count": 18,
   "metadata": {
    "collapsed": false
   },
   "outputs": [],
   "source": [
    "import numpy as np\n",
    "import mysql.connector\n",
    "\n",
    "connector = mysql.connector.connect(host='localhost',db='financial crisis model',user='root',password='admin')\n",
    "cursor = connector.cursor(buffered=True)\n",
    "\n",
    "sql00 = \"select step from bankrupt where agent = 0 and param = 'AS000CA100'\"\n",
    "sql01 = \"select step from bankrupt where agent = 0 and param = 'AS010CA090'\"\n",
    "sql02 = \"select step from bankrupt where agent = 0 and param = 'AS020CA080'\"\n",
    "sql03 = \"select step from bankrupt where agent = 0 and param = 'AS030CA070'\"\n",
    "sql04 = \"select step from bankrupt where agent = 0 and param = 'AS040CA060'\"\n",
    "sql05 = \"select step from bankrupt where agent = 0 and param = 'AS050CA050'\"\n",
    "sql06 = \"select step from bankrupt where agent = 0 and param = 'AS060CA040'\"\n",
    "sql07 = \"select step from bankrupt where agent = 0 and param = 'AS070CA030'\"\n",
    "sql08 = \"select step from bankrupt where agent = 0 and param = 'AS080CA020'\"\n",
    "sql09 = \"select step from bankrupt where agent = 0 and param = 'AS090CA010'\"\n",
    "sql10 = \"select step from bankrupt where agent = 0 and param = 'AS100CA000'\"\n",
    "\n",
    "\n",
    "\n",
    "cursor.execute(sql00)\n",
    "data00 = np.array(cursor.fetchall())\n",
    "cursor.execute(sql01)\n",
    "data01 = np.array(cursor.fetchall())\n",
    "cursor.execute(sql02)\n",
    "data02 = np.array(cursor.fetchall())\n",
    "cursor.execute(sql03)\n",
    "data03 = np.array(cursor.fetchall())\n",
    "cursor.execute(sql04)\n",
    "data04 = np.array(cursor.fetchall())\n",
    "cursor.execute(sql05)\n",
    "data05 = np.array(cursor.fetchall())\n",
    "cursor.execute(sql06)\n",
    "data06 = np.array(cursor.fetchall())\n",
    "cursor.execute(sql07)\n",
    "data07 = np.array(cursor.fetchall())\n",
    "cursor.execute(sql08)\n",
    "data08 = np.array(cursor.fetchall())\n",
    "cursor.execute(sql09)\n",
    "data09 = np.array(cursor.fetchall())\n",
    "cursor.execute(sql10)\n",
    "data10 = np.array(cursor.fetchall())\n",
    "\n",
    "\n",
    "cursor.close()\n",
    "connector.close()\n",
    "\n"
   ]
  },
  {
   "cell_type": "code",
   "execution_count": 19,
   "metadata": {
    "collapsed": false
   },
   "outputs": [
    {
     "data": {
      "image/png": "[encoded data removed]",
      "text/plain": [
       "<matplotlib.figure.Figure at 0x223d6377cc0>"
      ]
     },
     "metadata": {},
     "output_type": "display_data"
    },
    {
     "name": "stdout",
     "output_type": "stream",
     "text": [
      "agent0のbunkrupt回数\n"
     ]
    },
    {
     "data": {
      "text/plain": [
       "(50, 0, 50, 0, 50, 0, 50, 0, 50, 0, 50)"
      ]
     },
     "execution_count": 19,
     "metadata": {},
     "output_type": "execute_result"
    }
   ],
   "source": [
    "#coding:utf-8\n",
    "import matplotlib.pyplot as plt\n",
    "\n",
    "hige = (flatten(data00),flatten(data01), flatten(data02),flatten(data03),flatten(data04),flatten(data05),flatten(data06),flatten(data07),flatten(data08),flatten(data09),flatten(data10))\n",
    "\n",
    "fig = plt.figure()\n",
    "ax = fig.add_subplot(111)\n",
    "\n",
    "# 箱ひげ図をつくる\n",
    "bp = ax.boxplot(hige)\n",
    "ax.set_xticklabels(['1', '10', '20', '30', '40', '50', '60', '70', '80', '90', '100'])\n",
    "\n",
    "plt.title('agent0\\'s relation \\'Amout of AS\\' to \\'Bunkrupt Step\\'')\n",
    "plt.grid()\n",
    "plt.xlabel('Amout of AS')\n",
    "plt.ylabel('Bunkrupt Step')\n",
    "plt.ylim([40,120])\n",
    "plt.show()\n",
    "\n",
    "print('agent0のbunkrupt回数')\n",
    "len(flatten(data00)),len(flatten(data01)),len(flatten(data02)),len(flatten(data03)),len(flatten(data04)),len(flatten(data05)),len(flatten(data06)),len(flatten(data07)),len(flatten(data08)),len(flatten(data09)),len(flatten(data10))\n"
   ]
  },
  {
   "cell_type": "code",
   "execution_count": 10,
   "metadata": {
    "collapsed": false
   },
   "outputs": [],
   "source": [
    "def flatten(nested_list):\n",
    "    \"\"\"2重のリストをフラットにする関数\"\"\"\n",
    "    return [e for inner_list in nested_list for e in inner_list]"
   ]
  },
  {
   "cell_type": "code",
   "execution_count": 12,
   "metadata": {
    "collapsed": false
   },
   "outputs": [],
   "source": [
    "def translate(log):\n",
    "    log = sorted(log, key=lambda li: li[4][1])\n",
    "    log = sorted(log, key=lambda li: li[2])\n",
    "    \n",
    "    \n",
    "    pre_step = 0\n",
    "    st = ''\n",
    "    for event in log:\n",
    "        \n",
    "        if int(event[2]) != pre_step:\n",
    "            st = st+'I'\n",
    "            pre_step = int(event[2])\n",
    "\n",
    "        if event[4][0] == '1' and event[3] == '0':\n",
    "            st = st+'A'\n",
    "        elif event[4][0] == '2' and event[3] == '0':\n",
    "            st = st+'B'\n",
    "        elif event[4][0] == '3' and event[3] == '0':\n",
    "            st = st+'C'\n",
    "        elif event[4][0] == '4' and event[3] == '0':\n",
    "            st = st+'D'\n",
    "        elif event[4][0] == '1' and event[3] != '0':\n",
    "            st = st+'E'\n",
    "        elif event[4][0] == '2' and event[3] != '0':\n",
    "            st = st+'F'\n",
    "        elif event[4][0] == '3' and event[3] != '0':\n",
    "            st = st+'G'\n",
    "        elif event[4][0] == '4' and event[3] != '0':\n",
    "            st = st+'H'\n",
    "            \n",
    "    return [log[0][0],log[0][1],st]"
   ]
  },
  {
   "cell_type": "code",
   "execution_count": 20,
   "metadata": {
    "collapsed": false
   },
   "outputs": [
    {
     "name": "stdout",
     "output_type": "stream",
     "text": [
      "AS000CA100\n",
      "AS005CA095\n",
      "AS010CA090\n",
      "AS015CA085\n",
      "AS020CA080\n",
      "AS025CA075\n",
      "AS030CA070\n",
      "AS035CA065\n",
      "AS040CA060\n",
      "AS045CA055\n",
      "AS050CA050\n",
      "AS055CA045\n",
      "AS060CA040\n",
      "AS065CA035\n",
      "AS070CA030\n",
      "AS075CA025\n",
      "AS080CA020\n",
      "AS085CA015\n",
      "AS090CA010\n",
      "AS095CA005\n",
      "AS100CA000\n"
     ]
    }
   ],
   "source": [
    "#ログの書き換え\n",
    "\n",
    "import numpy as np\n",
    "import mysql.connector\n",
    "\n",
    "connector = mysql.connector.connect(host='localhost',db='financial crisis model',user='root',password='admin')\n",
    "cursor = connector.cursor(buffered=True)\n",
    "\n",
    "sql = \"select * from bankrupt\"\n",
    "\n",
    "\n",
    "cursor.execute(sql)\n",
    "data = np.array(cursor.fetchall())\n",
    "\n",
    "\n",
    "\n",
    "cursor.close()\n",
    "connector.close()\n",
    "\n",
    "\n",
    "out_list =[]\n",
    "\n",
    "for i in range(0,105,5):\n",
    "    param = 'AS'+\"{0:0>3}\".format(i)+'CA'+\"{0:0>3}\".format(100-i)\n",
    "    print(param)\n",
    "    for j in range(100):\n",
    "        log = [x for x in data if x[0]==param and int(x[1])==j] \n",
    "        if len(log)!=0:\n",
    "            out_list.append(translate(log))\n",
    "           \n",
    "            \n",
    "f = open('translate.txt', 'w')\n",
    "for x in out_list:\n",
    "    f.write(str(x).split('[')[1].split(']')[0].replace('\\'','') + \"\\n\")\n",
    "f.close()"
   ]
  },
  {
   "cell_type": "code",
   "execution_count": 21,
   "metadata": {
    "collapsed": false
   },
   "outputs": [
    {
     "data": {
      "image/png": "[encoded data removed]",
      "text/plain": [
       "<matplotlib.figure.Figure at 0x223d3855c50>"
      ]
     },
     "metadata": {},
     "output_type": "display_data"
    }
   ],
   "source": [
    "#プロセスから結果の分類\n",
    "import numpy as np\n",
    "import mysql.connector\n",
    "import Levenshtein\n",
    "import scipy\n",
    "import scipy.spatial.distance as distance\n",
    "from scipy.cluster.hierarchy import linkage, dendrogram, ward,cut_tree\n",
    "from matplotlib.pyplot import show\n",
    "import matplotlib.pyplot as plt\n",
    "\n",
    "#np.set_printoptions(threshold=np.inf)\n",
    "\n",
    "connector = mysql.connector.connect(host='localhost',db='financial crisis model',user='root',password='admin')\n",
    "cursor = connector.cursor(buffered=True)\n",
    "\n",
    "sql = \"select log from logs\"\n",
    "\n",
    "cursor.execute(sql)\n",
    "data = np.array(cursor.fetchall())\n",
    "\n",
    "sql_base = \"select * from logs\"\n",
    "\n",
    "cursor.execute(sql_base)\n",
    "data_base = np.array(cursor.fetchall())\n",
    "\n",
    "cursor.close()\n",
    "connector.close()\n",
    "\n",
    "\n",
    "#dArray1 = distance.pdist(data, metric = 'chebyshev')\n",
    "#print(dArray1)\n",
    "#result1 = linkage(data, method='ward')\n",
    "#dendrogram(result1)\n",
    "#show()\n",
    "\n",
    "#dArray1 = distance.pdist(data, metric = 'Levenshtein')\n",
    "#result2 = linkage(dArray1, method = 'average')\n",
    "\n",
    "n=len(data)\n",
    "dMatrix = np.zeros([n, n])\n",
    "for i in range(n):\n",
    "    for j in range(n):\n",
    "        dMatrix[i, j] = Levenshtein.distance(data[i][0], data[j][0])\n",
    "#チェビシェフ距離をとる\n",
    " \n",
    "#距離ベクトル生成\n",
    "dArray = distance.squareform(dMatrix)\n",
    " \n",
    "#クラスタリング\n",
    "result = linkage(dArray, method = 'ward')\n",
    " \n",
    "#図示\n",
    "dendrogram(result)\n",
    "show()"
   ]
  },
  {
   "cell_type": "code",
   "execution_count": 24,
   "metadata": {
    "collapsed": false
   },
   "outputs": [
    {
     "name": "stdout",
     "output_type": "stream",
     "text": [
      "[['AS000CA100' '0' 'IGIGIGIGIAIGIG' '0']\n",
      " ['AS000CA100' '1' 'IAGIGIGGGGIGIG' '1']\n",
      " ['AS000CA100' '2' 'IGIGIGIGBIGG' '0']\n",
      " ..., \n",
      " ['AS100CA000' '47' 'IGBIGIGGGIGGGG' '3']\n",
      " ['AS100CA000' '48' 'IGIGGDIGIGGGG' '3']\n",
      " ['AS100CA000' '49' 'IGIGGGIGBIGIG' '0']]\n"
     ]
    }
   ],
   "source": [
    "joint =  np.concatenate((data_base, cut_tree(result, 4)), axis=1)\n",
    "print(joint)\n",
    "\n",
    "f = open('output.txt', 'w')\n",
    "for x in joint:\n",
    "    f.write(str(x).split('[')[1].split(']')[0].replace('\\'','') + \"\\n\")\n",
    "f.close()"
   ]
  },
  {
   "cell_type": "code",
   "execution_count": 25,
   "metadata": {
    "collapsed": false
   },
   "outputs": [
    {
     "name": "stdout",
     "output_type": "stream",
     "text": [
      "0\t4.09782608696\t0\n",
      "1\t4.14925373134\t1\n",
      "2\t3.4347826087\t0\n",
      "3\t4.08955223881\t1\n",
      "4\t4.49253731343\t1\n",
      "5\t4.0\t0\n",
      "6\t3.76119402985\t1\n",
      "7\t3.37179487179\t2\n",
      "8\t3.75641025641\t2\n",
      "9\t3.60256410256\t2\n",
      "10\t4.91044776119\t1\n",
      "11\t3.91044776119\t1\n",
      "12\t2.73015873016\t3\n",
      "13\t5.4776119403\t1\n",
      "14\t3.26923076923\t2\n",
      "15\t4.77611940299\t1\n",
      "16\t3.74603174603\t3\n",
      "17\t4.76119402985\t1\n",
      "18\t6.02985074627\t1\n",
      "19\t3.97014925373\t1\n",
      "20\t3.0\t3\n",
      "21\t9.97014925373\t1\n",
      "22\t4.76119402985\t1\n",
      "23\t2.91025641026\t2\n",
      "24\t4.08955223881\t1\n",
      "25\t3.63043478261\t0\n",
      "26\t4.32835820896\t1\n",
      "27\t3.69841269841\t3\n",
      "28\t2.60317460317\t3\n",
      "29\t3.53846153846\t2\n",
      "30\t4.32835820896\t1\n",
      "31\t3.03174603175\t3\n",
      "32\t3.97014925373\t1\n",
      "33\t4.49253731343\t1\n",
      "34\t2.73015873016\t3\n",
      "35\t3.47826086957\t0\n",
      "36\t3.41791044776\t1\n",
      "37\t3.26086956522\t0\n",
      "38\t3.54347826087\t0\n",
      "39\t3.29347826087\t0\n",
      "40\t3.49253731343\t1\n",
      "41\t7.5223880597\t1\n",
      "42\t3.23076923077\t2\n",
      "43\t3.61194029851\t1\n",
      "44\t3.5223880597\t1\n",
      "45\t5.14925373134\t1\n",
      "46\t3.76119402985\t1\n",
      "47\t3.71641791045\t1\n",
      "48\t3.79365079365\t3\n",
      "49\t3.32835820896\t1\n",
      "50\t3.46031746032\t3\n",
      "51\t4.61194029851\t1\n",
      "52\t3.4347826087\t0\n",
      "53\t4.08955223881\t1\n",
      "54\t3.32835820896\t1\n",
      "55\t4.0\t0\n",
      "56\t3.76119402985\t1\n",
      "57\t3.37179487179\t2\n",
      "58\t3.75641025641\t2\n",
      "59\t3.60256410256\t2\n",
      "60\t4.91044776119\t1\n",
      "61\t3.91044776119\t1\n",
      "62\t2.73015873016\t3\n",
      "63\t5.4776119403\t1\n",
      "64\t3.26923076923\t2\n",
      "65\t4.77611940299\t1\n",
      "66\t3.74603174603\t3\n",
      "67\t4.76119402985\t1\n",
      "68\t6.02985074627\t1\n",
      "69\t3.97014925373\t1\n",
      "70\t3.0\t3\n",
      "71\t9.97014925373\t1\n",
      "72\t4.76119402985\t1\n",
      "73\t2.91025641026\t2\n",
      "74\t4.08955223881\t1\n",
      "75\t3.63043478261\t0\n",
      "76\t4.32835820896\t1\n",
      "77\t3.69841269841\t3\n",
      "78\t2.60317460317\t3\n",
      "79\t3.53846153846\t2\n",
      "80\t4.32835820896\t1\n",
      "81\t3.03174603175\t3\n",
      "82\t3.97014925373\t1\n",
      "83\t4.49253731343\t1\n",
      "84\t2.73015873016\t3\n",
      "85\t3.47826086957\t0\n",
      "86\t3.41791044776\t1\n",
      "87\t3.26086956522\t0\n",
      "88\t3.54347826087\t0\n",
      "89\t3.29347826087\t0\n",
      "90\t3.49253731343\t1\n",
      "91\t7.5223880597\t1\n",
      "92\t3.23076923077\t2\n",
      "93\t3.61194029851\t1\n",
      "94\t3.5223880597\t1\n",
      "95\t5.14925373134\t1\n",
      "96\t3.76119402985\t1\n",
      "97\t4.0652173913\t0\n",
      "98\t3.79365079365\t3\n",
      "99\t2.86956521739\t0\n",
      "100\t3.04761904762\t3\n",
      "101\t3.01086956522\t0\n",
      "102\t2.83333333333\t2\n",
      "103\t4.74626865672\t1\n",
      "104\t3.29347826087\t0\n",
      "105\t4.0\t0\n",
      "106\t3.83333333333\t2\n",
      "107\t3.37179487179\t2\n",
      "108\t3.75641025641\t2\n",
      "109\t4.20652173913\t0\n",
      "110\t3.26923076923\t2\n",
      "111\t3.54347826087\t0\n",
      "112\t2.97435897436\t2\n",
      "113\t4.46268656716\t1\n",
      "114\t3.89743589744\t2\n",
      "115\t3.57692307692\t2\n",
      "116\t2.95238095238\t3\n",
      "117\t4.76119402985\t1\n",
      "118\t3.02564102564\t2\n",
      "119\t4.1847826087\t0\n",
      "120\t3.12698412698\t3\n",
      "121\t4.03846153846\t2\n",
      "122\t2.86956521739\t0\n",
      "123\t3.0\t0\n",
      "124\t3.97435897436\t2\n",
      "125\t3.63043478261\t0\n",
      "126\t4.32835820896\t1\n",
      "127\t3.7619047619\t3\n",
      "128\t2.60317460317\t3\n",
      "129\t2.77777777778\t3\n",
      "130\t4.0\t3\n",
      "131\t3.07608695652\t0\n",
      "132\t3.97014925373\t1\n",
      "133\t3.34782608696\t0\n",
      "134\t2.73015873016\t3\n",
      "135\t3.47826086957\t0\n",
      "136\t3.02173913043\t0\n",
      "137\t3.5652173913\t0\n",
      "138\t2.95238095238\t3\n",
      "139\t5.35820895522\t1\n",
      "140\t5.5223880597\t1\n",
      "141\t2.77777777778\t3\n",
      "142\t2.39682539683\t3\n",
      "143\t3.01086956522\t0\n",
      "144\t4.09782608696\t0\n",
      "145\t3.7619047619\t3\n",
      "146\t4.92537313433\t1\n",
      "147\t4.0652173913\t0\n",
      "148\t3.79365079365\t3\n",
      "149\t2.86956521739\t0\n",
      "150\t3.04761904762\t3\n",
      "151\t3.01086956522\t0\n",
      "152\t2.83333333333\t2\n",
      "153\t3.94565217391\t0\n",
      "154\t3.30434782609\t0\n",
      "155\t4.0\t0\n",
      "156\t3.16666666667\t2\n",
      "157\t3.37179487179\t2\n",
      "158\t3.75641025641\t2\n",
      "159\t4.39682539683\t3\n",
      "160\t3.26923076923\t2\n",
      "161\t2.87179487179\t2\n",
      "162\t2.97435897436\t2\n",
      "163\t3.38043478261\t0\n",
      "164\t4.14130434783\t0\n",
      "165\t3.08974358974\t2\n",
      "166\t3.28571428571\t3\n",
      "167\t3.48913043478\t0\n",
      "168\t3.02564102564\t2\n",
      "169\t3.16666666667\t2\n",
      "170\t3.12698412698\t3\n",
      "171\t4.05128205128\t2\n",
      "172\t2.86956521739\t0\n",
      "173\t3.0\t0\n",
      "174\t3.97435897436\t2\n",
      "175\t3.63043478261\t0\n",
      "176\t4.35820895522\t1\n",
      "177\t3.46153846154\t2\n",
      "178\t3.73076923077\t2\n",
      "179\t2.77777777778\t3\n",
      "180\t2.80769230769\t2\n",
      "181\t3.22222222222\t3\n",
      "182\t3.97014925373\t1\n",
      "183\t3.34782608696\t0\n",
      "184\t3.97435897436\t2\n",
      "185\t3.04761904762\t3\n",
      "186\t3.42391304348\t0\n",
      "187\t2.61538461538\t2\n",
      "188\t2.95238095238\t3\n",
      "189\t3.05434782609\t0\n",
      "190\t3.25\t0\n",
      "191\t2.74603174603\t3\n",
      "192\t2.39682539683\t3\n",
      "193\t4.26086956522\t0\n",
      "194\t2.65384615385\t2\n",
      "195\t3.71641791045\t1\n",
      "196\t3.16666666667\t2\n",
      "197\t2.65079365079\t3\n",
      "198\t3.79365079365\t3\n",
      "199\t2.86956521739\t0\n",
      "200\t3.04761904762\t3\n",
      "201\t3.11956521739\t0\n",
      "202\t2.83333333333\t2\n",
      "203\t2.70512820513\t2\n",
      "204\t3.30434782609\t0\n",
      "205\t3.45652173913\t0\n",
      "206\t3.16666666667\t2\n",
      "207\t3.37179487179\t2\n",
      "208\t3.75641025641\t2\n",
      "209\t3.34615384615\t2\n",
      "210\t3.26923076923\t2\n",
      "211\t2.87179487179\t2\n",
      "212\t2.97435897436\t2\n",
      "213\t3.38043478261\t0\n",
      "214\t3.03260869565\t0\n",
      "215\t3.08974358974\t2\n",
      "216\t3.28571428571\t3\n",
      "217\t3.46739130435\t0\n",
      "218\t3.02564102564\t2\n",
      "219\t3.16666666667\t2\n",
      "220\t3.12698412698\t3\n",
      "221\t3.89130434783\t0\n",
      "222\t2.86956521739\t0\n",
      "223\t3.0\t0\n",
      "224\t3.97435897436\t2\n",
      "225\t3.63043478261\t0\n",
      "226\t3.8152173913\t0\n",
      "227\t5.01492537313\t1\n",
      "228\t3.73076923077\t2\n",
      "229\t3.22826086957\t0\n",
      "230\t3.22826086957\t0\n",
      "231\t3.22222222222\t3\n",
      "232\t4.13043478261\t0\n",
      "233\t3.34782608696\t0\n",
      "234\t4.26865671642\t1\n",
      "235\t3.04761904762\t3\n",
      "236\t3.42391304348\t0\n",
      "237\t2.61538461538\t2\n",
      "238\t2.95238095238\t3\n",
      "239\t3.05434782609\t0\n",
      "240\t3.25\t0\n",
      "241\t2.74603174603\t3\n",
      "242\t2.39682539683\t3\n",
      "243\t4.26086956522\t0\n",
      "244\t2.65384615385\t2\n",
      "245\t2.84782608696\t0\n",
      "246\t3.16666666667\t2\n",
      "247\t2.65079365079\t3\n",
      "248\t3.79365079365\t3\n",
      "249\t2.86956521739\t0\n",
      "250\t3.04761904762\t3\n",
      "251\t3.11956521739\t0\n",
      "252\t2.83333333333\t2\n",
      "253\t2.70512820513\t2\n",
      "254\t3.30434782609\t0\n",
      "255\t3.45652173913\t0\n",
      "256\t3.16666666667\t2\n",
      "257\t3.37179487179\t2\n",
      "258\t3.75641025641\t2\n",
      "259\t3.34615384615\t2\n",
      "260\t3.26923076923\t2\n",
      "261\t2.87179487179\t2\n",
      "262\t2.97435897436\t2\n",
      "263\t3.38043478261\t0\n",
      "264\t3.03260869565\t0\n",
      "265\t3.08974358974\t2\n",
      "266\t3.28571428571\t3\n",
      "267\t2.85897435897\t2\n",
      "268\t3.02564102564\t2\n",
      "269\t3.16666666667\t2\n",
      "270\t3.12698412698\t3\n",
      "271\t3.89130434783\t0\n",
      "272\t2.86956521739\t0\n",
      "273\t3.0\t0\n",
      "274\t3.97435897436\t2\n",
      "275\t3.63043478261\t0\n",
      "276\t4.39130434783\t0\n",
      "277\t3.52380952381\t3\n",
      "278\t3.54347826087\t0\n",
      "279\t3.22826086957\t0\n",
      "280\t3.22826086957\t0\n",
      "281\t3.22222222222\t3\n",
      "282\t4.25373134328\t1\n",
      "283\t3.34782608696\t0\n",
      "284\t4.26865671642\t1\n",
      "285\t3.04761904762\t3\n",
      "286\t3.42391304348\t0\n",
      "287\t2.61538461538\t2\n",
      "288\t2.95238095238\t3\n",
      "289\t3.05434782609\t0\n",
      "290\t3.25\t0\n",
      "291\t2.74603174603\t3\n",
      "292\t2.39682539683\t3\n",
      "293\t4.26086956522\t0\n",
      "294\t2.65384615385\t2\n",
      "295\t2.84782608696\t0\n",
      "296\t3.16666666667\t2\n",
      "297\t2.65079365079\t3\n",
      "298\t3.79365079365\t3\n",
      "299\t2.86956521739\t0\n"
     ]
    }
   ],
   "source": [
    "#中心を抽出\n",
    "\n",
    "n = 4\n",
    "join =  np.concatenate((dMatrix, cut_tree(result, n)), axis=1)\n",
    "\n",
    "cut = flatten(cut_tree(result, n))\n",
    "li = []\n",
    "\n",
    "for i in range(n):\n",
    "    li.append(list(map(lambda a:a==i, cut)))\n",
    "\n",
    "\n",
    "max_log = np.zeros(n)\n",
    "\n",
    "for j in range(len(dMatrix)):\n",
    "    \n",
    "    tmp = np.array(dMatrix[j] * li[cut[j]])\n",
    "    ave = sum(tmp) / sum(li[cut[j]])\n",
    "    print(str(j)+'\\t'+str(ave) +'\\t'+ str(cut[j]))\n",
    "    \n",
    "    "
   ]
  },
  {
   "cell_type": "code",
   "execution_count": 114,
   "metadata": {
    "collapsed": false
   },
   "outputs": [
    {
     "name": "stdout",
     "output_type": "stream",
     "text": [
      "single\n"
     ]
    },
    {
     "data": {
      "image/png": "[encoded data removed]",
      "text/plain": [
       "<matplotlib.figure.Figure at 0x21c8ed24b70>"
      ]
     },
     "metadata": {},
     "output_type": "display_data"
    },
    {
     "name": "stdout",
     "output_type": "stream",
     "text": [
      "complete\n"
     ]
    },
    {
     "data": {
      "image/png": "[encoded data removed]",
      "text/plain": [
       "<matplotlib.figure.Figure at 0x21cbeb64518>"
      ]
     },
     "metadata": {},
     "output_type": "display_data"
    },
    {
     "name": "stdout",
     "output_type": "stream",
     "text": [
      "average\n"
     ]
    },
    {
     "data": {
      "image/png": "[encoded data removed]",
      "text/plain": [
       "<matplotlib.figure.Figure at 0x21cbcfec630>"
      ]
     },
     "metadata": {},
     "output_type": "display_data"
    },
    {
     "name": "stdout",
     "output_type": "stream",
     "text": [
      "weighted\n"
     ]
    },
    {
     "data": {
      "image/png": "[encoded data removed]",
      "text/plain": [
       "<matplotlib.figure.Figure at 0x21c8ed67f60>"
      ]
     },
     "metadata": {},
     "output_type": "display_data"
    },
    {
     "name": "stdout",
     "output_type": "stream",
     "text": [
      "centroid\n"
     ]
    },
    {
     "data": {
      "image/png": "[encoded data removed]",
      "text/plain": [
       "<matplotlib.figure.Figure at 0x21cbd17e748>"
      ]
     },
     "metadata": {},
     "output_type": "display_data"
    },
    {
     "name": "stdout",
     "output_type": "stream",
     "text": [
      "median\n"
     ]
    },
    {
     "data": {
      "image/png": "[encoded data removed]",
      "text/plain": [
       "<matplotlib.figure.Figure at 0x21cba988b70>"
      ]
     },
     "metadata": {},
     "output_type": "display_data"
    },
    {
     "name": "stdout",
     "output_type": "stream",
     "text": [
      "ward\n"
     ]
    },
    {
     "data": {
      "image/png": "[encoded data removed]",
      "text/plain": [
       "<matplotlib.figure.Figure at 0x21c91455080>"
      ]
     },
     "metadata": {},
     "output_type": "display_data"
    }
   ],
   "source": [
    "\n",
    "how = 'single'\n",
    "print(how)\n",
    "result = linkage(dArray, method = how) \n",
    "dendrogram(result)\n",
    "show()\n",
    "\n",
    "how = 'complete'\n",
    "print(how)\n",
    "result = linkage(dArray, method = how) \n",
    "dendrogram(result)\n",
    "show()\n",
    "\n",
    "how = 'average'\n",
    "print(how)\n",
    "result = linkage(dArray, method = how) \n",
    "dendrogram(result)\n",
    "show()\n",
    "\n",
    "how = 'weighted'\n",
    "print(how)\n",
    "result = linkage(dArray, method = how) \n",
    "dendrogram(result)\n",
    "show()\n",
    "\n",
    "how = 'centroid'\n",
    "print(how)\n",
    "result = linkage(dArray, method = how) \n",
    "dendrogram(result)\n",
    "show()\n",
    "\n",
    "how = 'median'\n",
    "print(how)\n",
    "result = linkage(dArray, method = how) \n",
    "dendrogram(result)\n",
    "show()\n",
    "\n",
    "how = 'ward'\n",
    "print(how)\n",
    "result = linkage(dArray, method = how) \n",
    "dendrogram(result)\n",
    "show()"
   ]
  },
  {
   "cell_type": "code",
   "execution_count": null,
   "metadata": {
    "collapsed": true
   },
   "outputs": [],
   "source": []
  }
 ],
 "metadata": {
  "anaconda-cloud": {},
  "kernelspec": {
   "display_name": "Python [default]",
   "language": "python",
   "name": "python3"
  },
  "language_info": {
   "codemirror_mode": {
    "name": "ipython",
    "version": 3
   },
   "file_extension": ".py",
   "mimetype": "text/x-python",
   "name": "python",
   "nbconvert_exporter": "python",
   "pygments_lexer": "ipython3",
   "version": "3.5.2"
  }
 },
 "nbformat": 4,
 "nbformat_minor": 1
}
