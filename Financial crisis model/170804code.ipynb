{
 "cells": [
  {
   "cell_type": "code",
   "execution_count": 126,
   "metadata": {
    "collapsed": false
   },
   "outputs": [],
   "source": [
    "import os\n",
    "\n",
    "path = r\"C:\\Users\\e02324\\Downloads\\workspace\\financeABM_tanaka-san\\result\"\n",
    "\n",
    "dirs = get_dirs(path)\n",
    "out_list = []\n",
    "\n",
    "for dir in dirs:\n",
    "    f = open(dir+'Bankrupt.txt', 'r')\n",
    "    lines = open(dir+'Bankrupt.txt').read().split('\\n')\n",
    "    lines.pop(0)\n",
    "    for line in lines:\n",
    "        line_list = line.split('\\t')\n",
    "        if line_list[0] == '-' or line_list[0] == '':\n",
    "            break\n",
    "        line_list.insert(0,dir.split('\\\\')[-2])\n",
    "        line_list.insert(0,dir.split('\\\\')[-3])\n",
    "        out_list.append(line_list)\n",
    "        \n",
    "\n",
    "f = open('list.txt', 'w')\n",
    "for x in out_list:\n",
    "    f.write(str(x).split('[')[1].split(']')[0].replace('\\'','').replace(' ','') + \"\\n\")\n",
    "f.close()\n",
    "\n"
   ]
  },
  {
   "cell_type": "code",
   "execution_count": 128,
   "metadata": {
    "collapsed": false
   },
   "outputs": [],
   "source": [
    "import numpy as np\n",
    "import mysql.connector\n",
    "\n",
    "connector = mysql.connector.connect(host='localhost',db='financial crisis model',user='root',password='admin')\n",
    "cursor = connector.cursor(buffered=True)\n",
    "\n",
    "sql = \"TRUNCATE `bankrupt`\"\n",
    "cursor.execute(sql)\n",
    "\n",
    "sql = \"LOAD DATA LOCAL INFILE 'C:\\\\\\\\Users\\\\\\\\e02324\\\\\\\\Documents\\\\\\\\agent-log-analysis\\\\\\\\Financial crisis model\\\\\\\\list.txt' REPLACE INTO TABLE `financial crisis model`.`bankrupt` CHARACTER SET cp932 FIELDS TERMINATED BY ',' OPTIONALLY ENCLOSED BY '\\\"' LINES TERMINATED BY \\'\\r\\n\\' (`param`, `run`, `step`, `agent`, `reason`, `finloop`, `EEloop`, `gap`, `car`, `EE`, `collectable`, `other1`, `other2`)\"\n",
    "cursor.execute(sql)\n",
    "\n",
    "connector.commit()\n",
    "cursor.close()\n",
    "connector.close()"
   ]
  },
  {
   "cell_type": "code",
   "execution_count": 78,
   "metadata": {
    "collapsed": false
   },
   "outputs": [],
   "source": [
    "import os\n",
    "\n",
    "#path以下２階層すべてのディレクトリを返す\n",
    "def get_dirs(path):\n",
    "    rt = []\n",
    "    params = os.listdir(path)\n",
    "    params = [f for f in params if os.path.isdir(os.path.join(path, f))]\n",
    "\n",
    "    for param in params:\n",
    "        runs = os.listdir(path+\"\\\\\"+param)\n",
    "        runs = [f for f in runs if os.path.isdir(os.path.join(path+\"\\\\\"+param, f))]\n",
    "        for run in runs:\n",
    "            rt.append(path+\"\\\\\"+param+\"\\\\\"+run+\"\\\\\") \n",
    "    \n",
    "    return rt"
   ]
  },
  {
   "cell_type": "code",
   "execution_count": 129,
   "metadata": {
    "collapsed": false
   },
   "outputs": [],
   "source": [
    "import numpy as np\n",
    "import mysql.connector\n",
    "\n",
    "connector = mysql.connector.connect(host='localhost',db='financial crisis model',user='root',password='admin')\n",
    "cursor = connector.cursor(buffered=True)\n",
    "\n",
    "sql00 = \"select step from bankrupt where agent = 0 and param = 'AS000CA100'\"\n",
    "sql01 = \"select step from bankrupt where agent = 0 and param = 'AS010CA090'\"\n",
    "sql02 = \"select step from bankrupt where agent = 0 and param = 'AS020CA080'\"\n",
    "sql03 = \"select step from bankrupt where agent = 0 and param = 'AS030CA070'\"\n",
    "sql04 = \"select step from bankrupt where agent = 0 and param = 'AS040CA060'\"\n",
    "sql05 = \"select step from bankrupt where agent = 0 and param = 'AS050CA050'\"\n",
    "sql06 = \"select step from bankrupt where agent = 0 and param = 'AS060CA040'\"\n",
    "sql07 = \"select step from bankrupt where agent = 0 and param = 'AS070CA030'\"\n",
    "sql08 = \"select step from bankrupt where agent = 0 and param = 'AS080CA020'\"\n",
    "sql09 = \"select step from bankrupt where agent = 0 and param = 'AS090CA010'\"\n",
    "sql10 = \"select step from bankrupt where agent = 0 and param = 'AS100CA000'\"\n",
    "\n",
    "\n",
    "\n",
    "cursor.execute(sql00)\n",
    "data00 = np.array(cursor.fetchall())\n",
    "cursor.execute(sql01)\n",
    "data01 = np.array(cursor.fetchall())\n",
    "cursor.execute(sql02)\n",
    "data02 = np.array(cursor.fetchall())\n",
    "cursor.execute(sql03)\n",
    "data03 = np.array(cursor.fetchall())\n",
    "cursor.execute(sql04)\n",
    "data04 = np.array(cursor.fetchall())\n",
    "cursor.execute(sql05)\n",
    "data05 = np.array(cursor.fetchall())\n",
    "cursor.execute(sql06)\n",
    "data06 = np.array(cursor.fetchall())\n",
    "cursor.execute(sql07)\n",
    "data07 = np.array(cursor.fetchall())\n",
    "cursor.execute(sql08)\n",
    "data08 = np.array(cursor.fetchall())\n",
    "cursor.execute(sql09)\n",
    "data09 = np.array(cursor.fetchall())\n",
    "cursor.execute(sql10)\n",
    "data10 = np.array(cursor.fetchall())\n",
    "\n",
    "\n",
    "cursor.close()\n",
    "connector.close()\n",
    "\n"
   ]
  },
  {
   "cell_type": "code",
   "execution_count": 130,
   "metadata": {
    "collapsed": false
   },
   "outputs": [
    {
     "data": {
      "image/png": "[encoded data removed]",
      "text/plain": [
       "<matplotlib.figure.Figure at 0x2147a6e2160>"
      ]
     },
     "metadata": {},
     "output_type": "display_data"
    },
    {
     "name": "stdout",
     "output_type": "stream",
     "text": [
      "agent0のbunkrupt回数\n"
     ]
    },
    {
     "data": {
      "text/plain": [
       "(49, 0, 50, 0, 50, 0, 50, 0, 50, 0, 1000)"
      ]
     },
     "execution_count": 130,
     "metadata": {},
     "output_type": "execute_result"
    }
   ],
   "source": [
    "#coding:utf-8\n",
    "import matplotlib.pyplot as plt\n",
    "\n",
    "hige = (flatten(data00),flatten(data01), flatten(data02),flatten(data03),flatten(data04),flatten(data05),flatten(data06),flatten(data07),flatten(data08),flatten(data09),flatten(data10))\n",
    "\n",
    "fig = plt.figure()\n",
    "ax = fig.add_subplot(111)\n",
    "\n",
    "# 箱ひげ図をつくる\n",
    "bp = ax.boxplot(hige)\n",
    "ax.set_xticklabels(['1', '10', '20', '30', '40', '50', '60', '70', '80', '90', '100'])\n",
    "\n",
    "plt.title('agent0\\'s relation \\'Amout of AS\\' to \\'Bunkrupt Step\\'')\n",
    "plt.grid()\n",
    "plt.xlabel('Amout of AS')\n",
    "plt.ylabel('Bunkrupt Step')\n",
    "plt.ylim([40,120])\n",
    "plt.show()\n",
    "\n",
    "print('agent0のbunkrupt回数')\n",
    "len(flatten(data00)),len(flatten(data01)),len(flatten(data02)),len(flatten(data03)),len(flatten(data04)),len(flatten(data05)),len(flatten(data06)),len(flatten(data07)),len(flatten(data08)),len(flatten(data09)),len(flatten(data10))\n"
   ]
  },
  {
   "cell_type": "code",
   "execution_count": 81,
   "metadata": {
    "collapsed": false
   },
   "outputs": [],
   "source": [
    "def flatten(nested_list):\n",
    "    \"\"\"2重のリストをフラットにする関数\"\"\"\n",
    "    return [e for inner_list in nested_list for e in inner_list]"
   ]
  },
  {
   "cell_type": "code",
   "execution_count": 134,
   "metadata": {
    "collapsed": false
   },
   "outputs": [],
   "source": [
    "import math\n",
    "\n",
    "def translate(log):\n",
    "    log = sorted(log, key=lambda li: li[4][1])\n",
    "    log = sorted(log, key=lambda li: li[2])\n",
    "    \n",
    "    \n",
    "    pre_step = 0\n",
    "    st = ''\n",
    "    for event in log:\n",
    "        \n",
    "        if int(event[2]) != pre_step:\n",
    "#            st = st+'I'*math.ceil((int(event[2])-pre_step)/20)\n",
    "            dif = int(event[2]) - pre_step\n",
    "            if dif <=5:\n",
    "                st = st+'I'\n",
    "#            elif dif <=10:\n",
    "#                st = st+'J'\n",
    "            else:\n",
    "                st = st+'k'\n",
    "#            st = st+'I'\n",
    "            pre_step = int(event[2])\n",
    "\n",
    "        if event[4][0] == '1' and event[3] == '0':\n",
    "            st = st+'A'\n",
    "        elif event[4][0] == '2' and event[3] == '0':\n",
    "            st = st+'A'\n",
    "        elif event[4][0] == '3' and event[3] == '0':\n",
    "            st = st+'A'\n",
    "        elif event[4][0] == '4' and event[3] == '0':\n",
    "            st = st+'A'\n",
    "        elif event[4][0] == '1' and event[3] != '0':\n",
    "            st = st+'E'\n",
    "        elif event[4][0] == '2' and event[3] != '0':\n",
    "            st = st+'E'\n",
    "        elif event[4][0] == '3' and event[3] != '0':\n",
    "            st = st+'E'\n",
    "        elif event[4][0] == '4' and event[3] != '0':\n",
    "            st = st+'E'\n",
    "            \n",
    "    return [log[0][0],log[0][1],st]"
   ]
  },
  {
   "cell_type": "code",
   "execution_count": 141,
   "metadata": {
    "collapsed": false
   },
   "outputs": [
    {
     "name": "stdout",
     "output_type": "stream",
     "text": [
      "AS000CA100\n",
      "AS005CA095\n",
      "AS010CA090\n",
      "AS015CA085\n",
      "AS020CA080\n",
      "AS025CA075\n",
      "AS030CA070\n",
      "AS035CA065\n",
      "AS040CA060\n",
      "AS045CA055\n",
      "AS050CA050\n",
      "AS055CA045\n",
      "AS060CA040\n",
      "AS065CA035\n",
      "AS070CA030\n",
      "AS075CA025\n",
      "AS080CA020\n",
      "AS085CA015\n",
      "AS090CA010\n",
      "AS095CA005\n",
      "AS100CA000\n"
     ]
    }
   ],
   "source": [
    "#ログの書き換え\n",
    "\n",
    "import numpy as np\n",
    "import mysql.connector\n",
    "\n",
    "connector = mysql.connector.connect(host='localhost',db='financial crisis model',user='root',password='admin')\n",
    "cursor = connector.cursor(buffered=True)\n",
    "\n",
    "sql = \"select * from bankrupt\"\n",
    "\n",
    "\n",
    "cursor.execute(sql)\n",
    "data = np.array(cursor.fetchall())\n",
    "\n",
    "\n",
    "\n",
    "cursor.close()\n",
    "connector.close()\n",
    "\n",
    "\n",
    "out_list =[]\n",
    "\n",
    "for i in range(0,105,5):\n",
    "    param = 'AS'+\"{0:0>3}\".format(i)+'CA'+\"{0:0>3}\".format(100-i)\n",
    "    print(param)\n",
    "    for j in range(100):\n",
    "        log = [x for x in data if x[0]==param and int(x[1])==j] \n",
    "        if len(log)!=0:\n",
    "            out_list.append(translate(log))\n",
    "           \n",
    "            \n",
    "f = open('translate.txt', 'w')\n",
    "for x in out_list:\n",
    "    f.write(str(x).split('[')[1].split(']')[0].replace('\\'','') + \"\\n\")\n",
    "f.close()"
   ]
  },
  {
   "cell_type": "code",
   "execution_count": 108,
   "metadata": {
    "collapsed": false
   },
   "outputs": [
    {
     "data": {
      "image/png": "[encoded data removed]",
      "text/plain": [
       "<matplotlib.figure.Figure at 0x2147d0f0748>"
      ]
     },
     "metadata": {},
     "output_type": "display_data"
    }
   ],
   "source": [
    "#プロセスから結果の分類\n",
    "import numpy as np\n",
    "import mysql.connector\n",
    "import Levenshtein\n",
    "import scipy\n",
    "import scipy.spatial.distance as distance\n",
    "from scipy.cluster.hierarchy import linkage, dendrogram, ward,cut_tree\n",
    "from matplotlib.pyplot import show\n",
    "import matplotlib.pyplot as plt\n",
    "\n",
    "#np.set_printoptions(threshold=np.inf)\n",
    "\n",
    "connector = mysql.connector.connect(host='localhost',db='financial crisis model',user='root',password='admin')\n",
    "cursor = connector.cursor(buffered=True)\n",
    "\n",
    "sql = \"select log from logs\"\n",
    "\n",
    "cursor.execute(sql)\n",
    "data = np.array(cursor.fetchall())\n",
    "\n",
    "sql_base = \"select * from logs\"\n",
    "\n",
    "cursor.execute(sql_base)\n",
    "data_base = np.array(cursor.fetchall())\n",
    "\n",
    "cursor.close()\n",
    "connector.close()\n",
    "\n",
    "\n",
    "#dArray1 = distance.pdist(data, metric = 'chebyshev')\n",
    "#print(dArray1)\n",
    "#result1 = linkage(data, method='ward')\n",
    "#dendrogram(result1)\n",
    "#show()\n",
    "\n",
    "#dArray1 = distance.pdist(data, metric = 'Levenshtein')\n",
    "#result2 = linkage(dArray1, method = 'average')\n",
    "\n",
    "n=len(data)\n",
    "dMatrix = np.zeros([n, n])\n",
    "for i in range(n):\n",
    "    for j in range(n):\n",
    "        dMatrix[i, j] = Levenshtein.distance(data[i][0], data[j][0])\n",
    "\n",
    "\n",
    "#距離ベクトル生成\n",
    "dArray = distance.squareform(dMatrix)\n",
    " \n",
    "#クラスタリング\n",
    "result = linkage(dArray, method = 'ward')\n",
    " \n",
    "#図示\n",
    "dendrogram(result)\n",
    "show()"
   ]
  },
  {
   "cell_type": "code",
   "execution_count": 109,
   "metadata": {
    "collapsed": false
   },
   "outputs": [
    {
     "name": "stdout",
     "output_type": "stream",
     "text": [
      "[['AS000CA100' '0' 'kEEAEIE' '0']\n",
      " ['AS000CA100' '1' 'kEEEAE' '0']\n",
      " ['AS000CA100' '2' 'kEIEEAEEIE' '0']\n",
      " ..., \n",
      " ['AS100CA000' '47' 'kEIEIEIAkE' '3']\n",
      " ['AS100CA000' '48' 'kEIEIEIAkE' '3']\n",
      " ['AS100CA000' '49' 'kEIEEIAkE' '3']]\n"
     ]
    }
   ],
   "source": [
    "joint =  np.concatenate((data_base, cut_tree(result, 4)), axis=1)\n",
    "print(joint)\n",
    "\n",
    "f = open('output.txt', 'w')\n",
    "for x in joint:\n",
    "    f.write(str(x).split('[')[1].split(']')[0].replace('\\'','') + \"\\n\")\n",
    "f.close()"
   ]
  },
  {
   "cell_type": "code",
   "execution_count": 110,
   "metadata": {
    "collapsed": false
   },
   "outputs": [
    {
     "name": "stdout",
     "output_type": "stream",
     "text": [
      "0\t2.45255474453\t0\n",
      "1\t2.66423357664\t0\n",
      "2\t3.39416058394\t0\n",
      "3\t2.45255474453\t0\n",
      "4\t2.22627737226\t0\n",
      "5\t2.45255474453\t0\n",
      "6\t2.33576642336\t0\n",
      "7\t2.07299270073\t0\n",
      "8\t2.66423357664\t0\n",
      "9\t2.33576642336\t0\n",
      "10\t3.59124087591\t0\n",
      "11\t2.66423357664\t0\n",
      "12\t4.02189781022\t0\n",
      "13\t2.89051094891\t0\n",
      "14\t4.0802919708\t0\n",
      "15\t2.33576642336\t0\n",
      "16\t2.46153846154\t1\n",
      "17\t2.07299270073\t0\n",
      "18\t2.3503649635\t0\n",
      "19\t2.08759124088\t0\n",
      "20\t2.45255474453\t0\n",
      "21\t2.22627737226\t0\n",
      "22\t2.37226277372\t0\n",
      "23\t2.00729927007\t0\n",
      "24\t2.07299270073\t0\n",
      "25\t2.83941605839\t0\n",
      "26\t2.08759124088\t0\n",
      "27\t2.00729927007\t0\n",
      "28\t2.08759124088\t0\n",
      "29\t2.37226277372\t0\n",
      "30\t2.55474452555\t0\n",
      "31\t2.33576642336\t0\n",
      "32\t2.45255474453\t0\n",
      "33\t3.29197080292\t0\n",
      "34\t2.00729927007\t0\n",
      "35\t3.43795620438\t0\n",
      "36\t2.45255474453\t0\n",
      "37\t2.35766423358\t0\n",
      "38\t2.33576642336\t0\n",
      "39\t2.79562043796\t0\n",
      "40\t2.45255474453\t0\n",
      "41\t2.21897810219\t0\n",
      "42\t2.45255474453\t0\n",
      "43\t2.68613138686\t0\n",
      "44\t2.07299270073\t0\n",
      "45\t2.86131386861\t0\n",
      "46\t2.70802919708\t0\n",
      "47\t2.89051094891\t0\n",
      "48\t2.69230769231\t1\n",
      "49\t2.64233576642\t0\n",
      "50\t2.45255474453\t0\n",
      "51\t2.33576642336\t0\n",
      "52\t2.08759124088\t0\n",
      "53\t2.45255474453\t0\n",
      "54\t2.22627737226\t0\n",
      "55\t2.2700729927\t0\n",
      "56\t2.33576642336\t0\n",
      "57\t2.21897810219\t0\n",
      "58\t2.66423357664\t0\n",
      "59\t2.33576642336\t0\n",
      "60\t2.82481751825\t0\n",
      "61\t2.66423357664\t0\n",
      "62\t2.38686131387\t0\n",
      "63\t3.3795620438\t0\n",
      "64\t3.61313868613\t0\n",
      "65\t2.33576642336\t0\n",
      "66\t2.46153846154\t1\n",
      "67\t3.3795620438\t0\n",
      "68\t2.3503649635\t0\n",
      "69\t2.15384615385\t1\n",
      "70\t2.45255474453\t0\n",
      "71\t2.22627737226\t0\n",
      "72\t2.80291970803\t0\n",
      "73\t2.00729927007\t0\n",
      "74\t2.2700729927\t0\n",
      "75\t2.08759124088\t0\n",
      "76\t2.08759124088\t0\n",
      "77\t2.00729927007\t0\n",
      "78\t2.82481751825\t0\n",
      "79\t2.37226277372\t0\n",
      "80\t2.6496350365\t0\n",
      "81\t2.33576642336\t0\n",
      "82\t2.21897810219\t0\n",
      "83\t1.69230769231\t1\n",
      "84\t2.00729927007\t0\n",
      "85\t3.43795620438\t0\n",
      "86\t2.6496350365\t0\n",
      "87\t2.63503649635\t0\n",
      "88\t2.33576642336\t0\n",
      "89\t2.79562043796\t0\n",
      "90\t2.2700729927\t0\n",
      "91\t2.21897810219\t0\n",
      "92\t2.2700729927\t0\n",
      "93\t2.00729927007\t0\n",
      "94\t2.21897810219\t0\n",
      "95\t2.2700729927\t0\n",
      "96\t2.70802919708\t0\n",
      "97\t1.69230769231\t1\n",
      "98\t2.69230769231\t1\n",
      "99\t2.22627737226\t0\n",
      "100\t2.45255474453\t0\n",
      "101\t2.33576642336\t0\n",
      "102\t2.2700729927\t0\n",
      "103\t2.45255474453\t0\n",
      "104\t2.22627737226\t0\n",
      "105\t2.2700729927\t0\n",
      "106\t2.33576642336\t0\n",
      "107\t2.21897810219\t0\n",
      "108\t2.22627737226\t0\n",
      "109\t2.33576642336\t0\n",
      "110\t2.82481751825\t0\n",
      "111\t2.66423357664\t0\n",
      "112\t2.15384615385\t1\n",
      "113\t3.3795620438\t0\n",
      "114\t3.61313868613\t0\n",
      "115\t2.33576642336\t0\n",
      "116\t2.46153846154\t1\n",
      "117\t3.3795620438\t0\n",
      "118\t2.3503649635\t0\n",
      "119\t2.15384615385\t1\n",
      "120\t2.63503649635\t0\n",
      "121\t2.22627737226\t0\n",
      "122\t2.80291970803\t0\n",
      "123\t2.00729927007\t0\n",
      "124\t2.2700729927\t0\n",
      "125\t2.2700729927\t0\n",
      "126\t2.2700729927\t0\n",
      "127\t2.00729927007\t0\n",
      "128\t2.82481751825\t0\n",
      "129\t3.3795620438\t0\n",
      "130\t2.6496350365\t0\n",
      "131\t2.33576642336\t0\n",
      "132\t2.21897810219\t0\n",
      "133\t1.69230769231\t1\n",
      "134\t2.00729927007\t0\n",
      "135\t2.2700729927\t0\n",
      "136\t2.6496350365\t0\n",
      "137\t2.63503649635\t0\n",
      "138\t2.33576642336\t0\n",
      "139\t2.2700729927\t0\n",
      "140\t2.2700729927\t0\n",
      "141\t2.21897810219\t0\n",
      "142\t2.2700729927\t0\n",
      "143\t2.00729927007\t0\n",
      "144\t2.21897810219\t0\n",
      "145\t2.2700729927\t0\n",
      "146\t2.63503649635\t0\n",
      "147\t1.69230769231\t1\n",
      "148\t2.63503649635\t0\n",
      "149\t1.84615384615\t1\n",
      "150\t1.66\t2\n",
      "151\t1.78\t2\n",
      "152\t1.66\t2\n",
      "153\t1.78\t2\n",
      "154\t1.66\t2\n",
      "155\t2.58\t2\n",
      "156\t1.64\t2\n",
      "157\t2.52\t2\n",
      "158\t1.7\t2\n",
      "159\t1.62\t2\n",
      "160\t2.06\t2\n",
      "161\t1.66\t2\n",
      "162\t3.26\t2\n",
      "163\t1.62\t2\n",
      "164\t1.64\t2\n",
      "165\t1.66\t2\n",
      "166\t1.62\t2\n",
      "167\t1.66\t2\n",
      "168\t1.84\t2\n",
      "169\t2.36\t2\n",
      "170\t2.86\t2\n",
      "171\t2.38\t2\n",
      "172\t2.1\t2\n",
      "173\t1.7\t2\n",
      "174\t1.64\t2\n",
      "175\t1.8\t2\n",
      "176\t2.38\t2\n",
      "177\t2.28\t2\n",
      "178\t1.66\t2\n",
      "179\t1.78\t2\n",
      "180\t2.78\t2\n",
      "181\t1.66\t2\n",
      "182\t2.4\t2\n",
      "183\t1.62\t2\n",
      "184\t1.98\t2\n",
      "185\t1.7\t2\n",
      "186\t1.8\t2\n",
      "187\t1.84\t2\n",
      "188\t2.28\t2\n",
      "189\t2.86\t2\n",
      "190\t2.38\t2\n",
      "191\t1.84\t2\n",
      "192\t3.58\t2\n",
      "193\t1.64\t2\n",
      "194\t2.06\t2\n",
      "195\t3.24\t2\n",
      "196\t1.64\t2\n",
      "197\t1.74\t2\n",
      "198\t1.66\t2\n",
      "199\t1.9\t2\n",
      "200\t2.45\t3\n",
      "201\t1.05\t3\n",
      "202\t1.05\t3\n",
      "203\t3.34\t3\n",
      "204\t1.17\t3\n",
      "205\t1.6\t3\n",
      "206\t1.73\t3\n",
      "207\t0.97\t3\n",
      "208\t1.66\t3\n",
      "209\t1.05\t3\n",
      "210\t1.73\t3\n",
      "211\t1.05\t3\n",
      "212\t0.97\t3\n",
      "213\t1.05\t3\n",
      "214\t1.34\t3\n",
      "215\t0.97\t3\n",
      "216\t2.02\t3\n",
      "217\t0.97\t3\n",
      "218\t2.78\t3\n",
      "219\t1.05\t3\n",
      "220\t0.97\t3\n",
      "221\t3.33\t3\n",
      "222\t0.97\t3\n",
      "223\t1.92\t3\n",
      "224\t1.05\t3\n",
      "225\t1.73\t3\n",
      "226\t1.05\t3\n",
      "227\t1.9\t3\n",
      "228\t0.97\t3\n",
      "229\t1.05\t3\n",
      "230\t0.97\t3\n",
      "231\t0.97\t3\n",
      "232\t1.05\t3\n",
      "233\t1.05\t3\n",
      "234\t1.05\t3\n",
      "235\t1.34\t3\n",
      "236\t0.97\t3\n",
      "237\t0.97\t3\n",
      "238\t1.92\t3\n",
      "239\t1.73\t3\n",
      "240\t1.05\t3\n",
      "241\t0.97\t3\n",
      "242\t1.05\t3\n",
      "243\t0.97\t3\n",
      "244\t1.05\t3\n",
      "245\t1.34\t3\n",
      "246\t1.34\t3\n",
      "247\t0.97\t3\n",
      "248\t1.05\t3\n",
      "249\t1.05\t3\n",
      "250\t1.05\t3\n",
      "251\t1.05\t3\n",
      "252\t1.34\t3\n",
      "253\t1.05\t3\n",
      "254\t0.97\t3\n",
      "255\t1.05\t3\n",
      "256\t2.47\t3\n",
      "257\t1.9\t3\n",
      "258\t0.97\t3\n",
      "259\t1.05\t3\n",
      "260\t1.17\t3\n",
      "261\t1.17\t3\n",
      "262\t0.97\t3\n",
      "263\t0.97\t3\n",
      "264\t1.34\t3\n",
      "265\t1.17\t3\n",
      "266\t1.17\t3\n",
      "267\t1.05\t3\n",
      "268\t1.05\t3\n",
      "269\t1.8\t3\n",
      "270\t1.05\t3\n",
      "271\t2.43\t3\n",
      "272\t1.05\t3\n",
      "273\t3.33\t3\n",
      "274\t1.66\t3\n",
      "275\t0.97\t3\n",
      "276\t1.05\t3\n",
      "277\t1.05\t3\n",
      "278\t1.05\t3\n",
      "279\t1.17\t3\n",
      "280\t1.73\t3\n",
      "281\t1.8\t3\n",
      "282\t4.28\t3\n",
      "283\t1.05\t3\n",
      "284\t1.05\t3\n",
      "285\t0.97\t3\n",
      "286\t1.93\t3\n",
      "287\t1.17\t3\n",
      "288\t1.05\t3\n",
      "289\t1.05\t3\n",
      "290\t0.97\t3\n",
      "291\t0.97\t3\n",
      "292\t1.6\t3\n",
      "293\t0.97\t3\n",
      "294\t1.73\t3\n",
      "295\t1.73\t3\n",
      "296\t1.73\t3\n",
      "297\t0.97\t3\n",
      "298\t0.97\t3\n",
      "299\t1.05\t3\n"
     ]
    }
   ],
   "source": [
    "#中心を抽出\n",
    "\n",
    "n = 4\n",
    "join =  np.concatenate((dMatrix, cut_tree(result, n)), axis=1)\n",
    "\n",
    "cut = flatten(cut_tree(result, n))\n",
    "li = []\n",
    "\n",
    "for i in range(n):\n",
    "    li.append(list(map(lambda a:a==i, cut)))\n",
    "\n",
    "\n",
    "max_log = np.zeros(n)\n",
    "\n",
    "for j in range(len(dMatrix)):\n",
    "    \n",
    "    tmp = np.array(dMatrix[j] * li[cut[j]])\n",
    "    ave = sum(tmp) / sum(li[cut[j]])\n",
    "    print(str(j)+'\\t'+str(ave) +'\\t'+ str(cut[j]))\n",
    "    \n",
    "    "
   ]
  },
  {
   "cell_type": "code",
   "execution_count": 114,
   "metadata": {
    "collapsed": false
   },
   "outputs": [
    {
     "name": "stdout",
     "output_type": "stream",
     "text": [
      "single\n"
     ]
    },
    {
     "data": {
      "image/png": "[encoded data removed]",
      "text/plain": [
       "<matplotlib.figure.Figure at 0x21c8ed24b70>"
      ]
     },
     "metadata": {},
     "output_type": "display_data"
    },
    {
     "name": "stdout",
     "output_type": "stream",
     "text": [
      "complete\n"
     ]
    },
    {
     "data": {
      "image/png": "[encoded data removed]",
      "text/plain": [
       "<matplotlib.figure.Figure at 0x21cbeb64518>"
      ]
     },
     "metadata": {},
     "output_type": "display_data"
    },
    {
     "name": "stdout",
     "output_type": "stream",
     "text": [
      "average\n"
     ]
    },
    {
     "data": {
      "image/png": "[encoded data removed]",
      "text/plain": [
       "<matplotlib.figure.Figure at 0x21cbcfec630>"
      ]
     },
     "metadata": {},
     "output_type": "display_data"
    },
    {
     "name": "stdout",
     "output_type": "stream",
     "text": [
      "weighted\n"
     ]
    },
    {
     "data": {
      "image/png": "[encoded data removed]",
      "text/plain": [
       "<matplotlib.figure.Figure at 0x21c8ed67f60>"
      ]
     },
     "metadata": {},
     "output_type": "display_data"
    },
    {
     "name": "stdout",
     "output_type": "stream",
     "text": [
      "centroid\n"
     ]
    },
    {
     "data": {
      "image/png": "[encoded data removed]",
      "text/plain": [
       "<matplotlib.figure.Figure at 0x21cbd17e748>"
      ]
     },
     "metadata": {},
     "output_type": "display_data"
    },
    {
     "name": "stdout",
     "output_type": "stream",
     "text": [
      "median\n"
     ]
    },
    {
     "data": {
      "image/png": "[encoded data removed]",
      "text/plain": [
       "<matplotlib.figure.Figure at 0x21cba988b70>"
      ]
     },
     "metadata": {},
     "output_type": "display_data"
    },
    {
     "name": "stdout",
     "output_type": "stream",
     "text": [
      "ward\n"
     ]
    },
    {
     "data": {
      "image/png": "[encoded data removed]",
      "text/plain": [
       "<matplotlib.figure.Figure at 0x21c91455080>"
      ]
     },
     "metadata": {},
     "output_type": "display_data"
    }
   ],
   "source": [
    "\n",
    "how = 'single'\n",
    "print(how)\n",
    "result = linkage(dArray, method = how) \n",
    "dendrogram(result)\n",
    "show()\n",
    "\n",
    "how = 'complete'\n",
    "print(how)\n",
    "result = linkage(dArray, method = how) \n",
    "dendrogram(result)\n",
    "show()\n",
    "\n",
    "how = 'average'\n",
    "print(how)\n",
    "result = linkage(dArray, method = how) \n",
    "dendrogram(result)\n",
    "show()\n",
    "\n",
    "how = 'weighted'\n",
    "print(how)\n",
    "result = linkage(dArray, method = how) \n",
    "dendrogram(result)\n",
    "show()\n",
    "\n",
    "how = 'centroid'\n",
    "print(how)\n",
    "result = linkage(dArray, method = how) \n",
    "dendrogram(result)\n",
    "show()\n",
    "\n",
    "how = 'median'\n",
    "print(how)\n",
    "result = linkage(dArray, method = how) \n",
    "dendrogram(result)\n",
    "show()\n",
    "\n",
    "how = 'ward'\n",
    "print(how)\n",
    "result = linkage(dArray, method = how) \n",
    "dendrogram(result)\n",
    "show()"
   ]
  },
  {
   "cell_type": "code",
   "execution_count": null,
   "metadata": {
    "collapsed": true
   },
   "outputs": [],
   "source": []
  }
 ],
 "metadata": {
  "anaconda-cloud": {},
  "kernelspec": {
   "display_name": "Python [default]",
   "language": "python",
   "name": "python3"
  },
  "language_info": {
   "codemirror_mode": {
    "name": "ipython",
    "version": 3
   },
   "file_extension": ".py",
   "mimetype": "text/x-python",
   "name": "python",
   "nbconvert_exporter": "python",
   "pygments_lexer": "ipython3",
   "version": "3.5.2"
  }
 },
 "nbformat": 4,
 "nbformat_minor": 1
}
